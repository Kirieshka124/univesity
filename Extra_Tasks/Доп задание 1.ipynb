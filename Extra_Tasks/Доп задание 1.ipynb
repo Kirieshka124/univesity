{
  "nbformat": 4,
  "nbformat_minor": 0,
  "metadata": {
    "colab": {
      "provenance": [],
      "authorship_tag": "ABX9TyNhEdjdy830l4EOqWuJeVGb",
      "include_colab_link": true
    },
    "kernelspec": {
      "name": "python3",
      "display_name": "Python 3"
    },
    "language_info": {
      "name": "python"
    }
  },
  "cells": [
    {
      "cell_type": "markdown",
      "metadata": {
        "id": "view-in-github",
        "colab_type": "text"
      },
      "source": [
        "<a href=\"https://colab.research.google.com/github/Kirieshka124/univesity/blob/main/Extra_Tasks/%D0%94%D0%BE%D0%BF%20%D0%B7%D0%B0%D0%B4%D0%B0%D0%BD%D0%B8%D0%B5%201.ipynb\" target=\"_parent\"><img src=\"https://colab.research.google.com/assets/colab-badge.svg\" alt=\"Open In Colab\"/></a>"
      ]
    },
    {
      "cell_type": "code",
      "execution_count": 10,
      "metadata": {
        "colab": {
          "base_uri": "https://localhost:8080/"
        },
        "id": "OTm9H0vcruEb",
        "outputId": "22b4c8cf-2f3d-4e14-d3e3-558363130f42"
      },
      "outputs": [
        {
          "output_type": "stream",
          "name": "stdout",
          "text": [
            "82\n",
            "Ваше число больше!\n",
            "41\n",
            "Ваше число больше!\n",
            "75\n",
            "Ваше число больше!\n",
            "Выход\n",
            "Ну, не сегодня :(\n"
          ]
        }
      ],
      "source": [
        "import random\n",
        "a=random.randint(0,100)\n",
        "b=input()\n",
        "k=0\n",
        "while b=='Выход' or a!=int(b):\n",
        "  if b=='Выход':\n",
        "   print('Ну, не сегодня :(')\n",
        "   break\n",
        "  if a>int(b):\n",
        "    print('Ваше число меньше!')\n",
        "    k+=1\n",
        "    b=input()\n",
        "  if a<int(b):\n",
        "    print('Ваше число больше!')\n",
        "    k+=1\n",
        "    b=input()\n",
        "if str(a)==b:\n",
        "   k+=1\n",
        "   print('Ура, вы угадали, поздравляем :D.',f'Количество попыток:{k}')\n"
      ]
    }
  ]
}